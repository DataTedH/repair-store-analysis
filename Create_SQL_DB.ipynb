{
 "cells": [
  {
   "cell_type": "markdown",
   "source": [
    "## Import modules"
   ],
   "metadata": {
    "collapsed": false
   }
  },
  {
   "cell_type": "code",
   "execution_count": 32,
   "outputs": [],
   "source": [
    "import pandas as pd\n",
    "import sqlite3\n",
    "from faker import Faker\n",
    "\n",
    "# Dataset does not have technician names or store locations, so we'll make these up\n",
    "\n",
    "fake = Faker()"
   ],
   "metadata": {
    "collapsed": false
   }
  },
  {
   "cell_type": "markdown",
   "source": [
    "## Create database file"
   ],
   "metadata": {
    "collapsed": false
   }
  },
  {
   "cell_type": "code",
   "execution_count": 14,
   "outputs": [],
   "source": [
    "conn = sqlite3.connect('database.db')\n",
    "\n",
    "#Not creating the tables here because pandas can do this for us"
   ],
   "metadata": {
    "collapsed": false
   }
  },
  {
   "cell_type": "markdown",
   "source": [
    "## Import csv file with data and check data types"
   ],
   "metadata": {
    "collapsed": false
   }
  },
  {
   "cell_type": "code",
   "execution_count": 15,
   "outputs": [
    {
     "name": "stdout",
     "output_type": "stream",
     "text": [
      "<class 'pandas.core.frame.DataFrame'>\n",
      "RangeIndex: 65023 entries, 0 to 65022\n",
      "Data columns (total 23 columns):\n",
      " #   Column                      Non-Null Count  Dtype         \n",
      "---  ------                      --------------  -----         \n",
      " 0   store_id                    65023 non-null  object        \n",
      " 1   work_order                  65023 non-null  int64         \n",
      " 2   repair_date                 65023 non-null  datetime64[ns]\n",
      " 3   warranty                    65023 non-null  object        \n",
      " 4   warranty_status             65023 non-null  object        \n",
      " 5   device_generation           65023 non-null  object        \n",
      " 6   product_description         65023 non-null  object        \n",
      " 7   customer_reported_code      50858 non-null  object        \n",
      " 8   triage_failure_code         39211 non-null  object        \n",
      " 9   triage_failure_description  39211 non-null  object        \n",
      " 10  asp repair_code             32216 non-null  object        \n",
      " 11  asp repair_description      32216 non-null  object        \n",
      " 12  rma_country                 65023 non-null  object        \n",
      " 13  same_day_completion         65023 non-null  int64         \n",
      " 14  repair_start_time           65023 non-null  datetime64[ns]\n",
      " 15  repair_complete_time        65023 non-null  datetime64[ns]\n",
      " 16  repair_location             65023 non-null  object        \n",
      " 17  diag_code                   22666 non-null  object        \n",
      " 18  last_rfp_status             65023 non-null  object        \n",
      " 19  technician_id               65023 non-null  int64         \n",
      " 20  parts_problems              65023 non-null  object        \n",
      " 21  rework_90_day               65023 non-null  int64         \n",
      " 22  sales                       65023 non-null  float64       \n",
      "dtypes: datetime64[ns](3), float64(1), int64(4), object(15)\n",
      "memory usage: 11.4+ MB\n"
     ]
    }
   ],
   "source": [
    "df = pd.read_csv('Copy of Repair Data_v3.csv',\n",
    "                 index_col=None,\n",
    "                 parse_dates=['repair_date','repair_start_time','repair_complete_time'])\n",
    "df.info()"
   ],
   "metadata": {
    "collapsed": false
   }
  },
  {
   "cell_type": "markdown",
   "source": [
    "## Why is store_id an object and not an integer?"
   ],
   "metadata": {
    "collapsed": false
   }
  },
  {
   "cell_type": "code",
   "execution_count": 16,
   "outputs": [
    {
     "data": {
      "text/plain": "array(['539', '746', '554', '330', '189', '542', '752', '479', '670',\n       '687', '227', '5', '6', '185', '532', '827', '375', '555', '815',\n       '304', '198', '274', '800', '861', '468', '403', '11', '558',\n       '517', '780', '896', '581', '224', '179', '771', '545', '285',\n       '617', '480', '765', '688', '16', '803', '834', '500', '778', '17',\n       '18', '268', '392', '212', '19', '21', '610', '22', '718', '363',\n       '664', '449', '24', '25', '26', '627', '393', '577', '297', '585',\n       '329', '777', '228', '309', '427', '28', '436', '30', '604', '320',\n       '336', '486', '892', '31', '559', '783', '32', '702', '230', '36',\n       '913', '415', '745', '289', '697', '40', '848', '541', '600',\n       '452', '405', '41', '42', '362', '537', '44', '881', '288', '46',\n       '562', '812', '788', '49', '796', '50', '440', '51', '769', '547',\n       '54', '843', '220', '335', '492', '312', '868', '55', '629', '732',\n       '805', '490', '401', '313', '321', '737', '292', '57', '591',\n       '548', '384', '63', '170', '748', '62', '65', '561', '470', '813',\n       '679', '536', '201', '326', '750', '69', '70', '152', '71', '829',\n       '478', '296', '219', '74', '266', '636', '553', '324', '447',\n       '234', '851', '328', '402', '267', '80', '862', '192', '339',\n       '550', '177', '404', '176', '361', '84', '246', '87', '377', '835',\n       '828', '740', '926', '90', '92', '736', '573', '871', '286', '100',\n       '533', '162', '515', '168', '102', '421', '416', '105', '281',\n       '355', '481', '107', '206', '278', '589', '108', '350', '282',\n       '630', '448', '886', '109', '197', '453', '143', '566', '166',\n       '253', '111', '187', '435', '113', '768', '159', '334', '242',\n       '489', '597', '116', '158', '314', '499', '644', '118', '859',\n       '251', '792', '606', '608', '579', '647', '354', '394', '824',\n       '210', '399', '124', '540', '147', '487', '860', '125', '303',\n       '406', '910-Depot', '735', '734', '624', '727', '365', '129',\n       '322', '638', '645', '272', '131', '221', '283', '454', '552',\n       '467', '784', '909', '134', '340', '135', '753', '407', '3', '484',\n       '458', '8', '369', '10', '766', '429', '15', '343', '578', '795',\n       '526', '497', '725', '237', '774', '169', '37', '34', '273', '38',\n       '798', '850', '45', '761', '419', '772', '719', '222', '290',\n       '293', '762', '531', '662', '59', '622', '373', '730', '878',\n       '775', '607', '73', '583', '572', '640', '912', '779', '450', '85',\n       '717', '316', '156', '95', '98', '366', '785', '241', '265', '767',\n       '110', '875', '528', '804', '318', '776', '901', '571', '793',\n       '319', '755', '527', '270', '516', '857', '144', '287', '833',\n       '520', '551', '367', '498', '632', '204', '137', '544', '461', '1',\n       '160', '2', '151', '4', '248', '698', '245', '611', '310', '149',\n       '13', '252', '300', '184', '633', '352', '747', '20', '163', '543',\n       '782', '438', '849', '625', '820', '791', '130', '757', '839',\n       '216', '615', '223', '808', '818', '346', '43', '760', '391',\n       '164', '47', '48', '642', '465', '396', '455', '173', '299', '797',\n       '524', '546', '508', '58', '689', '236', '331', '345', '488',\n       '383', '207', '381', '538', '474', '260', '506', '477', '451',\n       '190', '655', '509', '570', '307', '623', '483', '693', '817',\n       '75', '460', '79', '284', '390', '225', '439', '262', '83', '271',\n       '457', '86', '88', '425', '195', '763', '261', '182', '280', '512',\n       '93', '722', '301', '389', '756', '657', '298', '598', '918',\n       '691', '194', '117', '709', '218', '376', '841', '317', '215',\n       '514', '356', '418', '128', '816', '368', '495', '462', '133',\n       '257', '790', '235', '136', '894', '279', '138', '801', '588',\n       '494', '858', '637', '357', '23', '139', '424', '327', '33', '669',\n       '648', '814', '196', '337', '332', '202', '167', '594', '420',\n       '599', '789', '68', '72', '863', '628', '882', '81', '154', '308',\n       '400', '609', '433', '475', '825', '432', '99', '214', '103',\n       '417', '199', '530', '238', '852', '106', '294', '338', '243',\n       '443', '276', '349', '145', '181', '505-Depot', '590', '205',\n       '605', '639', '744', '773', '12', '504', '567', '428', '491',\n       '870', '426', '621', '263', '586', '568', '507', '226', '513',\n       '643', '203', '188', '306', '877', '471', '96', '101', '635',\n       '781', '888', '208', '556', '873', '115', '557', '846', '370',\n       '123', '456', '510', '385', '446', '729', '382', '165', '231',\n       '178', '749', '672', '770', '372', '269', '482', '819', '77',\n       '472', '258', '641', '174', '277', '150', '112', '122', '677',\n       '347', '153', '183', '430', '809', '264', '422', '830', '333',\n       '751', '61', '826', '302', '619', '601', '845', '473', '764',\n       '431', '119', '463', '522', '180', '239', '423', '802', '476',\n       '434', '315', '7', '603', '459', '91', '708', '620', '53', '259',\n       '410', '496', '161', '97', '157', '502', '211', '141', '879',\n       '786', '535', '658', '560', '596', '374', '493', '397', '699',\n       '676', '701', '200', '678', '175', '616', '759', '518', '395',\n       '710', '726', '529', '186', '501', '700', '580', '323', '694',\n       '695', '707', '706', '733', '663', '569', '485', '787', '661',\n       '66', '653', '525', '67', '666', '728', '681', '651', '660', '209',\n       '654', '723', '652', '549', '686', '683', '232', '592', '692',\n       '712', '656', '713', '674', '650', '60', '742', '127', '724',\n       '667', '690', '705'], dtype=object)"
     },
     "execution_count": 16,
     "metadata": {},
     "output_type": "execute_result"
    }
   ],
   "source": [
    "df['store_id'].unique()"
   ],
   "metadata": {
    "collapsed": false
   }
  },
  {
   "cell_type": "markdown",
   "source": [
    "## Create new column for Depots"
   ],
   "metadata": {
    "collapsed": false
   }
  },
  {
   "cell_type": "code",
   "execution_count": 17,
   "outputs": [
    {
     "data": {
      "text/plain": "  store_id  work_order repair_date warranty warranty_status device_generation  \\\n0      539    12984423  2021-08-10        N              EW             Gen 3   \n1      539    12742816  2021-08-10        N              EW             Gen 4   \n2      746    13008982  2021-08-09        N              EW             Gen 3   \n3      554    13009475  2021-08-09        N             OOW            Gen 3a   \n4      554    12878951  2021-08-09        N             OOW             Gen 1   \n\n  product_description customer_reported_code triage_failure_code  \\\n0        Smartphone 3                    NaN                 NaN   \n1     Smartphone 4 XL                    NaN                 NaN   \n2     Smartphone 3 XL                    NaN                 NaN   \n3       Smartphone 3a        Physical Damage                T028   \n4          Smartphone                  Power                 NaN   \n\n                          triage_failure_description  ...   repair_start_time  \\\n0                                                NaN  ... 2021-08-07 10:00:00   \n1                                                NaN  ... 2021-07-15 12:02:00   \n2                                                NaN  ... 2021-08-09 12:57:00   \n3  Display dead pixel, dark spots or foreign mate...  ... 2021-08-09 15:16:00   \n4                                                NaN  ... 2021-07-28 10:46:00   \n\n  repair_complete_time repair_location  diag_code last_rfp_status  \\\n0  2021-08-10 08:14:00           STORE        NaN  Repaired - RFP   \n1  2021-08-10 08:12:00           STORE        NaN  Repaired - RFP   \n2  2021-08-09 16:39:00           STORE        NaN  Repaired - RFP   \n3  2021-08-09 18:04:00           STORE        NaN  Repaired - RFP   \n4  2021-08-09 12:03:00           STORE        NaN     Other - RFP   \n\n  technician_id parts_problems rework_90_day   sales  depot  \n0         11991    parts issue             0  253.64  False  \n1         11991    parts issue             0  265.25  False  \n2         10681    parts issue             0  178.86  False  \n3         11745    parts issue             0  109.99  False  \n4         11975             --             0    0.00  False  \n\n[5 rows x 24 columns]",
      "text/html": "<div>\n<style scoped>\n    .dataframe tbody tr th:only-of-type {\n        vertical-align: middle;\n    }\n\n    .dataframe tbody tr th {\n        vertical-align: top;\n    }\n\n    .dataframe thead th {\n        text-align: right;\n    }\n</style>\n<table border=\"1\" class=\"dataframe\">\n  <thead>\n    <tr style=\"text-align: right;\">\n      <th></th>\n      <th>store_id</th>\n      <th>work_order</th>\n      <th>repair_date</th>\n      <th>warranty</th>\n      <th>warranty_status</th>\n      <th>device_generation</th>\n      <th>product_description</th>\n      <th>customer_reported_code</th>\n      <th>triage_failure_code</th>\n      <th>triage_failure_description</th>\n      <th>...</th>\n      <th>repair_start_time</th>\n      <th>repair_complete_time</th>\n      <th>repair_location</th>\n      <th>diag_code</th>\n      <th>last_rfp_status</th>\n      <th>technician_id</th>\n      <th>parts_problems</th>\n      <th>rework_90_day</th>\n      <th>sales</th>\n      <th>depot</th>\n    </tr>\n  </thead>\n  <tbody>\n    <tr>\n      <th>0</th>\n      <td>539</td>\n      <td>12984423</td>\n      <td>2021-08-10</td>\n      <td>N</td>\n      <td>EW</td>\n      <td>Gen 3</td>\n      <td>Smartphone 3</td>\n      <td>NaN</td>\n      <td>NaN</td>\n      <td>NaN</td>\n      <td>...</td>\n      <td>2021-08-07 10:00:00</td>\n      <td>2021-08-10 08:14:00</td>\n      <td>STORE</td>\n      <td>NaN</td>\n      <td>Repaired - RFP</td>\n      <td>11991</td>\n      <td>parts issue</td>\n      <td>0</td>\n      <td>253.64</td>\n      <td>False</td>\n    </tr>\n    <tr>\n      <th>1</th>\n      <td>539</td>\n      <td>12742816</td>\n      <td>2021-08-10</td>\n      <td>N</td>\n      <td>EW</td>\n      <td>Gen 4</td>\n      <td>Smartphone 4 XL</td>\n      <td>NaN</td>\n      <td>NaN</td>\n      <td>NaN</td>\n      <td>...</td>\n      <td>2021-07-15 12:02:00</td>\n      <td>2021-08-10 08:12:00</td>\n      <td>STORE</td>\n      <td>NaN</td>\n      <td>Repaired - RFP</td>\n      <td>11991</td>\n      <td>parts issue</td>\n      <td>0</td>\n      <td>265.25</td>\n      <td>False</td>\n    </tr>\n    <tr>\n      <th>2</th>\n      <td>746</td>\n      <td>13008982</td>\n      <td>2021-08-09</td>\n      <td>N</td>\n      <td>EW</td>\n      <td>Gen 3</td>\n      <td>Smartphone 3 XL</td>\n      <td>NaN</td>\n      <td>NaN</td>\n      <td>NaN</td>\n      <td>...</td>\n      <td>2021-08-09 12:57:00</td>\n      <td>2021-08-09 16:39:00</td>\n      <td>STORE</td>\n      <td>NaN</td>\n      <td>Repaired - RFP</td>\n      <td>10681</td>\n      <td>parts issue</td>\n      <td>0</td>\n      <td>178.86</td>\n      <td>False</td>\n    </tr>\n    <tr>\n      <th>3</th>\n      <td>554</td>\n      <td>13009475</td>\n      <td>2021-08-09</td>\n      <td>N</td>\n      <td>OOW</td>\n      <td>Gen 3a</td>\n      <td>Smartphone 3a</td>\n      <td>Physical Damage</td>\n      <td>T028</td>\n      <td>Display dead pixel, dark spots or foreign mate...</td>\n      <td>...</td>\n      <td>2021-08-09 15:16:00</td>\n      <td>2021-08-09 18:04:00</td>\n      <td>STORE</td>\n      <td>NaN</td>\n      <td>Repaired - RFP</td>\n      <td>11745</td>\n      <td>parts issue</td>\n      <td>0</td>\n      <td>109.99</td>\n      <td>False</td>\n    </tr>\n    <tr>\n      <th>4</th>\n      <td>554</td>\n      <td>12878951</td>\n      <td>2021-08-09</td>\n      <td>N</td>\n      <td>OOW</td>\n      <td>Gen 1</td>\n      <td>Smartphone</td>\n      <td>Power</td>\n      <td>NaN</td>\n      <td>NaN</td>\n      <td>...</td>\n      <td>2021-07-28 10:46:00</td>\n      <td>2021-08-09 12:03:00</td>\n      <td>STORE</td>\n      <td>NaN</td>\n      <td>Other - RFP</td>\n      <td>11975</td>\n      <td>--</td>\n      <td>0</td>\n      <td>0.00</td>\n      <td>False</td>\n    </tr>\n  </tbody>\n</table>\n<p>5 rows × 24 columns</p>\n</div>"
     },
     "execution_count": 17,
     "metadata": {},
     "output_type": "execute_result"
    }
   ],
   "source": [
    "df['depot'] = df['store_id'].str.contains('-Depot').astype(bool)\n",
    "df.head()"
   ],
   "metadata": {
    "collapsed": false
   }
  },
  {
   "cell_type": "markdown",
   "source": [
    "## Remove '-Depot' from the store_id so it can be stored as integer"
   ],
   "metadata": {
    "collapsed": false
   }
  },
  {
   "cell_type": "code",
   "execution_count": 18,
   "outputs": [
    {
     "name": "stdout",
     "output_type": "stream",
     "text": [
      "<class 'pandas.core.frame.DataFrame'>\n",
      "RangeIndex: 65023 entries, 0 to 65022\n",
      "Data columns (total 24 columns):\n",
      " #   Column                      Non-Null Count  Dtype         \n",
      "---  ------                      --------------  -----         \n",
      " 0   store_id                    65023 non-null  int64         \n",
      " 1   work_order                  65023 non-null  int64         \n",
      " 2   repair_date                 65023 non-null  datetime64[ns]\n",
      " 3   warranty                    65023 non-null  object        \n",
      " 4   warranty_status             65023 non-null  object        \n",
      " 5   device_generation           65023 non-null  object        \n",
      " 6   product_description         65023 non-null  object        \n",
      " 7   customer_reported_code      50858 non-null  object        \n",
      " 8   triage_failure_code         39211 non-null  object        \n",
      " 9   triage_failure_description  39211 non-null  object        \n",
      " 10  asp repair_code             32216 non-null  object        \n",
      " 11  asp repair_description      32216 non-null  object        \n",
      " 12  rma_country                 65023 non-null  object        \n",
      " 13  same_day_completion         65023 non-null  int64         \n",
      " 14  repair_start_time           65023 non-null  datetime64[ns]\n",
      " 15  repair_complete_time        65023 non-null  datetime64[ns]\n",
      " 16  repair_location             65023 non-null  object        \n",
      " 17  diag_code                   22666 non-null  object        \n",
      " 18  last_rfp_status             65023 non-null  object        \n",
      " 19  technician_id               65023 non-null  int64         \n",
      " 20  parts_problems              65023 non-null  object        \n",
      " 21  rework_90_day               65023 non-null  int64         \n",
      " 22  sales                       65023 non-null  float64       \n",
      " 23  depot                       65023 non-null  bool          \n",
      "dtypes: bool(1), datetime64[ns](3), float64(1), int64(5), object(14)\n",
      "memory usage: 11.5+ MB\n"
     ]
    }
   ],
   "source": [
    "df['store_id'] = df['store_id'].str.replace('-Depot','').astype(int)\n",
    "df.info()"
   ],
   "metadata": {
    "collapsed": false
   }
  },
  {
   "cell_type": "markdown",
   "source": [
    "## Set boolean types to save space"
   ],
   "metadata": {
    "collapsed": false
   }
  },
  {
   "cell_type": "code",
   "execution_count": 19,
   "outputs": [
    {
     "name": "stdout",
     "output_type": "stream",
     "text": [
      "<class 'pandas.core.frame.DataFrame'>\n",
      "RangeIndex: 65023 entries, 0 to 65022\n",
      "Data columns (total 24 columns):\n",
      " #   Column                      Non-Null Count  Dtype         \n",
      "---  ------                      --------------  -----         \n",
      " 0   store_id                    65023 non-null  int64         \n",
      " 1   work_order                  65023 non-null  int64         \n",
      " 2   repair_date                 65023 non-null  datetime64[ns]\n",
      " 3   warranty                    65023 non-null  bool          \n",
      " 4   warranty_status             65023 non-null  object        \n",
      " 5   device_generation           65023 non-null  object        \n",
      " 6   product_description         65023 non-null  object        \n",
      " 7   customer_reported_code      50858 non-null  object        \n",
      " 8   triage_failure_code         39211 non-null  object        \n",
      " 9   triage_failure_description  39211 non-null  object        \n",
      " 10  asp repair_code             32216 non-null  object        \n",
      " 11  asp repair_description      32216 non-null  object        \n",
      " 12  rma_country                 65023 non-null  object        \n",
      " 13  same_day_completion         65023 non-null  bool          \n",
      " 14  repair_start_time           65023 non-null  datetime64[ns]\n",
      " 15  repair_complete_time        65023 non-null  datetime64[ns]\n",
      " 16  repair_location             65023 non-null  object        \n",
      " 17  diag_code                   22666 non-null  object        \n",
      " 18  last_rfp_status             65023 non-null  object        \n",
      " 19  technician_id               65023 non-null  int64         \n",
      " 20  parts_problems              65023 non-null  object        \n",
      " 21  rework_90_day               65023 non-null  bool          \n",
      " 22  sales                       65023 non-null  float64       \n",
      " 23  depot                       65023 non-null  bool          \n",
      "dtypes: bool(4), datetime64[ns](3), float64(1), int64(3), object(13)\n",
      "memory usage: 10.2+ MB\n"
     ]
    }
   ],
   "source": [
    "df['same_day_completion'] = df['same_day_completion'].astype(bool)\n",
    "df['rework_90_day'] = df['rework_90_day'].astype(bool)\n",
    "df['warranty'] = df['warranty'].str.replace('N','0').replace('Y','1').astype(bool)\n",
    "df.info()"
   ],
   "metadata": {
    "collapsed": false
   }
  },
  {
   "cell_type": "markdown",
   "source": [
    "## Break up data into different tables"
   ],
   "metadata": {
    "collapsed": false
   }
  },
  {
   "cell_type": "code",
   "execution_count": 34,
   "outputs": [
    {
     "data": {
      "text/plain": "          depot                      address                   city state  \\\nstore_id                                                                    \n1         False            08248 Gardner Row        Port Sharonstad    FM   \n2         False  4911 Smith Plains Suite 090              Longhaven    AZ   \n3         False    39617 Orr Union Suite 896  South Christopherbury    SC   \n4         False            22471 Paul Ridges        Williamschester    MH   \n5         False           45019 Teresa Lakes       North Brandonton    RI   \n\n         zipcode  \nstore_id          \n1          14953  \n2          49105  \n3          98252  \n4          72143  \n5          10159  ",
      "text/html": "<div>\n<style scoped>\n    .dataframe tbody tr th:only-of-type {\n        vertical-align: middle;\n    }\n\n    .dataframe tbody tr th {\n        vertical-align: top;\n    }\n\n    .dataframe thead th {\n        text-align: right;\n    }\n</style>\n<table border=\"1\" class=\"dataframe\">\n  <thead>\n    <tr style=\"text-align: right;\">\n      <th></th>\n      <th>depot</th>\n      <th>address</th>\n      <th>city</th>\n      <th>state</th>\n      <th>zipcode</th>\n    </tr>\n    <tr>\n      <th>store_id</th>\n      <th></th>\n      <th></th>\n      <th></th>\n      <th></th>\n      <th></th>\n    </tr>\n  </thead>\n  <tbody>\n    <tr>\n      <th>1</th>\n      <td>False</td>\n      <td>08248 Gardner Row</td>\n      <td>Port Sharonstad</td>\n      <td>FM</td>\n      <td>14953</td>\n    </tr>\n    <tr>\n      <th>2</th>\n      <td>False</td>\n      <td>4911 Smith Plains Suite 090</td>\n      <td>Longhaven</td>\n      <td>AZ</td>\n      <td>49105</td>\n    </tr>\n    <tr>\n      <th>3</th>\n      <td>False</td>\n      <td>39617 Orr Union Suite 896</td>\n      <td>South Christopherbury</td>\n      <td>SC</td>\n      <td>98252</td>\n    </tr>\n    <tr>\n      <th>4</th>\n      <td>False</td>\n      <td>22471 Paul Ridges</td>\n      <td>Williamschester</td>\n      <td>MH</td>\n      <td>72143</td>\n    </tr>\n    <tr>\n      <th>5</th>\n      <td>False</td>\n      <td>45019 Teresa Lakes</td>\n      <td>North Brandonton</td>\n      <td>RI</td>\n      <td>10159</td>\n    </tr>\n  </tbody>\n</table>\n</div>"
     },
     "execution_count": 34,
     "metadata": {},
     "output_type": "execute_result"
    }
   ],
   "source": [
    "# Create a table of the unique store_id and depot\n",
    "\n",
    "store_table = df[['store_id','depot']]\\\n",
    "    .sort_values('store_id')\\\n",
    "    .drop_duplicates()\\\n",
    "    .set_index('store_id')\n",
    "\n",
    "# Set up faker to create our fake addresses\n",
    "\n",
    "store_locations = [(fake.street_address(),\n",
    "                    fake.city(),\n",
    "                    fake.state_abbr(),\n",
    "                    fake.zipcode())\n",
    "                   for _ in range(len(store_table))]\n",
    "\n",
    "# Create a dictionary to store the fake data\n",
    "\n",
    "address_dict = {}\n",
    "for i, store in enumerate(store_table.index):\n",
    "    address_dict[store] = store_locations[i % len(store_locations)]\n",
    "\n",
    "# Add the fake addresses to the dataframe\n",
    "\n",
    "store_table['address'] = [address_dict[store][0] for store in store_table.index]\n",
    "store_table['city'] = [address_dict[store][1] for store in store_table.index]\n",
    "store_table['state'] = [address_dict[store][2] for store in store_table.index]\n",
    "store_table['zipcode'] = [address_dict[store][3] for store in store_table.index]\n",
    "\n",
    "store_table.head()"
   ],
   "metadata": {
    "collapsed": false
   }
  },
  {
   "cell_type": "code",
   "execution_count": 21,
   "outputs": [
    {
     "data": {
      "text/plain": "731"
     },
     "execution_count": 21,
     "metadata": {},
     "output_type": "execute_result"
    }
   ],
   "source": [
    "store_table.to_sql('store', conn, if_exists=\"replace\")"
   ],
   "metadata": {
    "collapsed": false
   }
  },
  {
   "cell_type": "code",
   "execution_count": 22,
   "outputs": [
    {
     "data": {
      "text/plain": "            store_id repair_date  warranty warranty_status device_generation  \\\nwork_order                                                                     \n12984423         539  2021-08-10      True              EW             Gen 3   \n12742816         539  2021-08-10      True              EW             Gen 4   \n13008982         746  2021-08-09      True              EW             Gen 3   \n13009475         554  2021-08-09      True             OOW            Gen 3a   \n12878951         554  2021-08-09      True             OOW             Gen 1   \n\n           product_description customer_reported_code triage_failure_code  \\\nwork_order                                                                  \n12984423          Smartphone 3                    NaN                 NaN   \n12742816       Smartphone 4 XL                    NaN                 NaN   \n13008982       Smartphone 3 XL                    NaN                 NaN   \n13009475         Smartphone 3a        Physical Damage                T028   \n12878951            Smartphone                  Power                 NaN   \n\n                                   triage_failure_description asp repair_code  \\\nwork_order                                                                      \n12984423                                                  NaN             NaN   \n12742816                                                  NaN             NaN   \n13008982                                                  NaN             NaN   \n13009475    Display dead pixel, dark spots or foreign mate...             R17   \n12878951                                                  NaN             NaN   \n\n            ... rma_country   repair_start_time repair_complete_time  \\\nwork_order  ...                                                        \n12984423    ...          US 2021-08-07 10:00:00  2021-08-10 08:14:00   \n12742816    ...          US 2021-07-15 12:02:00  2021-08-10 08:12:00   \n13008982    ...          CA 2021-08-09 12:57:00  2021-08-09 16:39:00   \n13009475    ...          US 2021-08-09 15:16:00  2021-08-09 18:04:00   \n12878951    ...          US 2021-07-28 10:46:00  2021-08-09 12:03:00   \n\n           repair_location diag_code last_rfp_status technician_id  \\\nwork_order                                                           \n12984423             STORE       NaN  Repaired - RFP         11991   \n12742816             STORE       NaN  Repaired - RFP         11991   \n13008982             STORE       NaN  Repaired - RFP         10681   \n13009475             STORE       NaN  Repaired - RFP         11745   \n12878951             STORE       NaN     Other - RFP         11975   \n\n            parts_problems rework_90_day   sales  \nwork_order                                        \n12984423       parts issue         False  253.64  \n12742816       parts issue         False  265.25  \n13008982       parts issue         False  178.86  \n13009475       parts issue         False  109.99  \n12878951                --         False    0.00  \n\n[5 rows x 21 columns]",
      "text/html": "<div>\n<style scoped>\n    .dataframe tbody tr th:only-of-type {\n        vertical-align: middle;\n    }\n\n    .dataframe tbody tr th {\n        vertical-align: top;\n    }\n\n    .dataframe thead th {\n        text-align: right;\n    }\n</style>\n<table border=\"1\" class=\"dataframe\">\n  <thead>\n    <tr style=\"text-align: right;\">\n      <th></th>\n      <th>store_id</th>\n      <th>repair_date</th>\n      <th>warranty</th>\n      <th>warranty_status</th>\n      <th>device_generation</th>\n      <th>product_description</th>\n      <th>customer_reported_code</th>\n      <th>triage_failure_code</th>\n      <th>triage_failure_description</th>\n      <th>asp repair_code</th>\n      <th>...</th>\n      <th>rma_country</th>\n      <th>repair_start_time</th>\n      <th>repair_complete_time</th>\n      <th>repair_location</th>\n      <th>diag_code</th>\n      <th>last_rfp_status</th>\n      <th>technician_id</th>\n      <th>parts_problems</th>\n      <th>rework_90_day</th>\n      <th>sales</th>\n    </tr>\n    <tr>\n      <th>work_order</th>\n      <th></th>\n      <th></th>\n      <th></th>\n      <th></th>\n      <th></th>\n      <th></th>\n      <th></th>\n      <th></th>\n      <th></th>\n      <th></th>\n      <th></th>\n      <th></th>\n      <th></th>\n      <th></th>\n      <th></th>\n      <th></th>\n      <th></th>\n      <th></th>\n      <th></th>\n      <th></th>\n      <th></th>\n    </tr>\n  </thead>\n  <tbody>\n    <tr>\n      <th>12984423</th>\n      <td>539</td>\n      <td>2021-08-10</td>\n      <td>True</td>\n      <td>EW</td>\n      <td>Gen 3</td>\n      <td>Smartphone 3</td>\n      <td>NaN</td>\n      <td>NaN</td>\n      <td>NaN</td>\n      <td>NaN</td>\n      <td>...</td>\n      <td>US</td>\n      <td>2021-08-07 10:00:00</td>\n      <td>2021-08-10 08:14:00</td>\n      <td>STORE</td>\n      <td>NaN</td>\n      <td>Repaired - RFP</td>\n      <td>11991</td>\n      <td>parts issue</td>\n      <td>False</td>\n      <td>253.64</td>\n    </tr>\n    <tr>\n      <th>12742816</th>\n      <td>539</td>\n      <td>2021-08-10</td>\n      <td>True</td>\n      <td>EW</td>\n      <td>Gen 4</td>\n      <td>Smartphone 4 XL</td>\n      <td>NaN</td>\n      <td>NaN</td>\n      <td>NaN</td>\n      <td>NaN</td>\n      <td>...</td>\n      <td>US</td>\n      <td>2021-07-15 12:02:00</td>\n      <td>2021-08-10 08:12:00</td>\n      <td>STORE</td>\n      <td>NaN</td>\n      <td>Repaired - RFP</td>\n      <td>11991</td>\n      <td>parts issue</td>\n      <td>False</td>\n      <td>265.25</td>\n    </tr>\n    <tr>\n      <th>13008982</th>\n      <td>746</td>\n      <td>2021-08-09</td>\n      <td>True</td>\n      <td>EW</td>\n      <td>Gen 3</td>\n      <td>Smartphone 3 XL</td>\n      <td>NaN</td>\n      <td>NaN</td>\n      <td>NaN</td>\n      <td>NaN</td>\n      <td>...</td>\n      <td>CA</td>\n      <td>2021-08-09 12:57:00</td>\n      <td>2021-08-09 16:39:00</td>\n      <td>STORE</td>\n      <td>NaN</td>\n      <td>Repaired - RFP</td>\n      <td>10681</td>\n      <td>parts issue</td>\n      <td>False</td>\n      <td>178.86</td>\n    </tr>\n    <tr>\n      <th>13009475</th>\n      <td>554</td>\n      <td>2021-08-09</td>\n      <td>True</td>\n      <td>OOW</td>\n      <td>Gen 3a</td>\n      <td>Smartphone 3a</td>\n      <td>Physical Damage</td>\n      <td>T028</td>\n      <td>Display dead pixel, dark spots or foreign mate...</td>\n      <td>R17</td>\n      <td>...</td>\n      <td>US</td>\n      <td>2021-08-09 15:16:00</td>\n      <td>2021-08-09 18:04:00</td>\n      <td>STORE</td>\n      <td>NaN</td>\n      <td>Repaired - RFP</td>\n      <td>11745</td>\n      <td>parts issue</td>\n      <td>False</td>\n      <td>109.99</td>\n    </tr>\n    <tr>\n      <th>12878951</th>\n      <td>554</td>\n      <td>2021-08-09</td>\n      <td>True</td>\n      <td>OOW</td>\n      <td>Gen 1</td>\n      <td>Smartphone</td>\n      <td>Power</td>\n      <td>NaN</td>\n      <td>NaN</td>\n      <td>NaN</td>\n      <td>...</td>\n      <td>US</td>\n      <td>2021-07-28 10:46:00</td>\n      <td>2021-08-09 12:03:00</td>\n      <td>STORE</td>\n      <td>NaN</td>\n      <td>Other - RFP</td>\n      <td>11975</td>\n      <td>--</td>\n      <td>False</td>\n      <td>0.00</td>\n    </tr>\n  </tbody>\n</table>\n<p>5 rows × 21 columns</p>\n</div>"
     },
     "execution_count": 22,
     "metadata": {},
     "output_type": "execute_result"
    }
   ],
   "source": [
    "work_order_table = df.drop(columns=['same_day_completion','depot']).set_index('work_order')\n",
    "work_order_table.head()"
   ],
   "metadata": {
    "collapsed": false
   }
  },
  {
   "cell_type": "code",
   "execution_count": 23,
   "outputs": [
    {
     "data": {
      "text/plain": "65023"
     },
     "execution_count": 23,
     "metadata": {},
     "output_type": "execute_result"
    }
   ],
   "source": [
    "work_order_table.to_sql('work_order', conn, if_exists=\"replace\")"
   ],
   "metadata": {
    "collapsed": false
   }
  },
  {
   "cell_type": "code",
   "execution_count": 38,
   "outputs": [
    {
     "data": {
      "text/plain": "              first_name last_name         full_name\ntechnician_id                                       \n11991               Anna    Morris       Anna Morris\n10681          Elizabeth    Forbes  Elizabeth Forbes\n11745             Sandra      Hall       Sandra Hall\n11975            Crystal     Gross     Crystal Gross\n10513              Sarah    Wilson      Sarah Wilson",
      "text/html": "<div>\n<style scoped>\n    .dataframe tbody tr th:only-of-type {\n        vertical-align: middle;\n    }\n\n    .dataframe tbody tr th {\n        vertical-align: top;\n    }\n\n    .dataframe thead th {\n        text-align: right;\n    }\n</style>\n<table border=\"1\" class=\"dataframe\">\n  <thead>\n    <tr style=\"text-align: right;\">\n      <th></th>\n      <th>first_name</th>\n      <th>last_name</th>\n      <th>full_name</th>\n    </tr>\n    <tr>\n      <th>technician_id</th>\n      <th></th>\n      <th></th>\n      <th></th>\n    </tr>\n  </thead>\n  <tbody>\n    <tr>\n      <th>11991</th>\n      <td>Anna</td>\n      <td>Morris</td>\n      <td>Anna Morris</td>\n    </tr>\n    <tr>\n      <th>10681</th>\n      <td>Elizabeth</td>\n      <td>Forbes</td>\n      <td>Elizabeth Forbes</td>\n    </tr>\n    <tr>\n      <th>11745</th>\n      <td>Sandra</td>\n      <td>Hall</td>\n      <td>Sandra Hall</td>\n    </tr>\n    <tr>\n      <th>11975</th>\n      <td>Crystal</td>\n      <td>Gross</td>\n      <td>Crystal Gross</td>\n    </tr>\n    <tr>\n      <th>10513</th>\n      <td>Sarah</td>\n      <td>Wilson</td>\n      <td>Sarah Wilson</td>\n    </tr>\n  </tbody>\n</table>\n</div>"
     },
     "execution_count": 38,
     "metadata": {},
     "output_type": "execute_result"
    }
   ],
   "source": [
    "#Get a unique list of tech_id and convert to dataframe\n",
    "#drop_duplicates on a single column creates a series, not dataframe\n",
    "#to_frame fixes this, then set index to tech id\n",
    "\n",
    "tech_table = df['technician_id'].drop_duplicates().to_frame().set_index('technician_id')\n",
    "\n",
    "#Create fake first and last names for each tech\n",
    "\n",
    "tech_table['first_name'] = [fake.first_name() for _ in range(len(tech_table))]\n",
    "tech_table['last_name'] = [fake.last_name() for _ in range(len(tech_table))]\n",
    "tech_table['full_name'] = tech_table['first_name'] + ' ' + tech_table['last_name']\n",
    "\n",
    "tech_table.head()"
   ],
   "metadata": {
    "collapsed": false
   }
  },
  {
   "cell_type": "code",
   "execution_count": 35,
   "outputs": [
    {
     "data": {
      "text/plain": "3634"
     },
     "execution_count": 35,
     "metadata": {},
     "output_type": "execute_result"
    }
   ],
   "source": [
    "tech_table.to_sql('technician', conn, if_exists=\"replace\")"
   ],
   "metadata": {
    "collapsed": false
   }
  },
  {
   "cell_type": "markdown",
   "source": [
    "## That's enough tables for now. I could create a table for devices too, but it is not necessary."
   ],
   "metadata": {
    "collapsed": false
   }
  },
  {
   "cell_type": "code",
   "execution_count": 39,
   "outputs": [],
   "source": [
    "# Close the database connection since we're done with it for now.\n",
    "\n",
    "conn.close()"
   ],
   "metadata": {
    "collapsed": false
   }
  }
 ],
 "metadata": {
  "kernelspec": {
   "display_name": "Python 3",
   "language": "python",
   "name": "python3"
  },
  "language_info": {
   "codemirror_mode": {
    "name": "ipython",
    "version": 2
   },
   "file_extension": ".py",
   "mimetype": "text/x-python",
   "name": "python",
   "nbconvert_exporter": "python",
   "pygments_lexer": "ipython2",
   "version": "2.7.6"
  }
 },
 "nbformat": 4,
 "nbformat_minor": 0
}
